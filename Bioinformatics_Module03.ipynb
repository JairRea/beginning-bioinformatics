{
  "nbformat": 4,
  "nbformat_minor": 0,
  "metadata": {
    "colab": {
      "provenance": [],
      "collapsed_sections": [
        "jYlnA2Z2FhoW",
        "qRj8vCvXG-1k",
        "s7deJQCHHwOa",
        "GtjxkNHWN5Xo",
        "3yswDberkE7N",
        "4IM-9eAGkPdi",
        "nlBbe3qBRH_J",
        "iHFNxm30lzic",
        "sOgq54Op4MZL",
        "R5_dYi9f6t1z",
        "LdtXZ0LW9ugo",
        "jG6jvXEBDi4H",
        "i4Fo-ddSKWwy",
        "sgc3wiQmLXcI",
        "iupO8iI-ZYAe",
        "lY924yM0jckW",
        "NvqGEl4JjpiO",
        "5Be2tcQRrjso",
        "Y98OZYUNvmWD",
        "gavUUL39INzP"
      ],
      "include_colab_link": true
    },
    "kernelspec": {
      "name": "python3",
      "display_name": "Python 3"
    },
    "language_info": {
      "name": "python"
    }
  },
  "cells": [
    {
      "cell_type": "markdown",
      "metadata": {
        "id": "view-in-github",
        "colab_type": "text"
      },
      "source": [
        "<a href=\"https://colab.research.google.com/github/JairRea/beginning-bioinformatics/blob/main/Bioinformatics_Module03.ipynb\" target=\"_parent\"><img src=\"https://colab.research.google.com/assets/colab-badge.svg\" alt=\"Open In Colab\"/></a>"
      ]
    },
    {
      "cell_type": "markdown",
      "source": [
        "## I changed the Blue heading color to green to signify that I have done the following successfully. -- Jair Rea 1001887311"
      ],
      "metadata": {
        "id": "VDxrlvgjp6KO"
      }
    },
    {
      "cell_type": "markdown",
      "source": [
        "# **<font color=green>P1.** </font>Rename this notebook **Bioinformatics_Module03.ipynb </font><br>**"
      ],
      "metadata": {
        "id": "l3h89jAYBUzz"
      }
    },
    {
      "cell_type": "markdown",
      "source": [
        "# **<font color=green>P2. </font>**```print()```writes to standard output (i.e. prints output to the screen)"
      ],
      "metadata": {
        "id": "jYlnA2Z2FhoW"
      }
    },
    {
      "cell_type": "markdown",
      "source": [
        "####**TASK P2.1:** Print <font color = magenta>hello world</font>"
      ],
      "metadata": {
        "id": "r118fqQodA9x"
      }
    },
    {
      "cell_type": "code",
      "source": [
        "print(\"hello world\")"
      ],
      "metadata": {
        "id": "kvxK8D5uFx_x",
        "colab": {
          "base_uri": "https://localhost:8080/"
        },
        "outputId": "a30b762d-01ac-46b8-c2a9-be3bc4fb3a41"
      },
      "execution_count": 1,
      "outputs": [
        {
          "output_type": "stream",
          "name": "stdout",
          "text": [
            "hello world\n"
          ]
        }
      ]
    },
    {
      "cell_type": "markdown",
      "source": [
        "# **<font color=green>P3. </font>**```=``` is the ASSIGNMENT operator (assigns values to variables)\n",
        "####**TASK P3.1:** Ask Gemini, \"*Give me 3 examples to help practice understanding the assignment operator.*\""
      ],
      "metadata": {
        "id": "qRj8vCvXG-1k"
      }
    },
    {
      "cell_type": "code",
      "source": [
        "x=5\n",
        "x"
      ],
      "metadata": {
        "id": "VB8HPNe7JpuJ",
        "colab": {
          "base_uri": "https://localhost:8080/"
        },
        "outputId": "5b74d197-a342-4719-b5f9-5db6777fcb5a"
      },
      "execution_count": 2,
      "outputs": [
        {
          "output_type": "execute_result",
          "data": {
            "text/plain": [
              "5"
            ]
          },
          "metadata": {},
          "execution_count": 2
        }
      ]
    },
    {
      "cell_type": "markdown",
      "source": [
        "## The following below are the 3 examples Gemini has provided me."
      ],
      "metadata": {
        "id": "4FNb4N0Drdif"
      }
    },
    {
      "cell_type": "code",
      "metadata": {
        "colab": {
          "base_uri": "https://localhost:8080/"
        },
        "id": "03ce651a",
        "outputId": "2a353698-d97c-4bf4-e594-cfffc62cf7ef"
      },
      "source": [
        "# Example 1: Assigning a string to a variable\n",
        "greeting = \"Hello, world!\"\n",
        "print(greeting)"
      ],
      "execution_count": 3,
      "outputs": [
        {
          "output_type": "stream",
          "name": "stdout",
          "text": [
            "Hello, world!\n"
          ]
        }
      ]
    },
    {
      "cell_type": "code",
      "metadata": {
        "colab": {
          "base_uri": "https://localhost:8080/"
        },
        "id": "5496a752",
        "outputId": "566a79f2-122f-4b4f-bf1e-abe14e89342e"
      },
      "source": [
        "# Example 2: Assigning the result of an arithmetic operation to a variable\n",
        "sum_result = 10 + 25\n",
        "print(sum_result)"
      ],
      "execution_count": 4,
      "outputs": [
        {
          "output_type": "stream",
          "name": "stdout",
          "text": [
            "35\n"
          ]
        }
      ]
    },
    {
      "cell_type": "code",
      "metadata": {
        "colab": {
          "base_uri": "https://localhost:8080/"
        },
        "id": "b10f4cf8",
        "outputId": "1d57d19c-e55f-4283-ded2-d0e21ea6c7f5"
      },
      "source": [
        "# Example 3: Assigning a boolean value to a variable\n",
        "is_active = True\n",
        "print(is_active)"
      ],
      "execution_count": 5,
      "outputs": [
        {
          "output_type": "stream",
          "name": "stdout",
          "text": [
            "True\n"
          ]
        }
      ]
    },
    {
      "cell_type": "markdown",
      "source": [
        "# **<font color=green>P4. </font>** Data types: use ```type()``` to find a variable's \"type\"\n",
        "####**TASK P4.1:** Ask Gemini, \"*Give me examples of each data type to see how they look as outputs.*\""
      ],
      "metadata": {
        "id": "s7deJQCHHwOa"
      }
    },
    {
      "cell_type": "code",
      "source": [
        "type(x)"
      ],
      "metadata": {
        "colab": {
          "base_uri": "https://localhost:8080/"
        },
        "id": "ktR75uWIJ0uc",
        "outputId": "2d9eacb5-ae2b-4c26-d747-5f55736d533c"
      },
      "execution_count": 7,
      "outputs": [
        {
          "output_type": "execute_result",
          "data": {
            "text/plain": [
              "int"
            ]
          },
          "metadata": {},
          "execution_count": 7
        }
      ]
    },
    {
      "cell_type": "markdown",
      "source": [
        "## The following below is what Gemini provided me."
      ],
      "metadata": {
        "id": "TDg9oAn5uYQy"
      }
    },
    {
      "cell_type": "code",
      "metadata": {
        "colab": {
          "base_uri": "https://localhost:8080/"
        },
        "id": "4b366541",
        "outputId": "d090763e-6a93-46a2-8daa-f42cd81a72cb"
      },
      "source": [
        "# Integer\n",
        "my_integer = 10\n",
        "print(my_integer)\n",
        "print(type(my_integer))"
      ],
      "execution_count": 8,
      "outputs": [
        {
          "output_type": "stream",
          "name": "stdout",
          "text": [
            "10\n",
            "<class 'int'>\n"
          ]
        }
      ]
    },
    {
      "cell_type": "code",
      "metadata": {
        "colab": {
          "base_uri": "https://localhost:8080/"
        },
        "id": "79ac3269",
        "outputId": "7b5fb43d-2dbb-4bb2-df96-ea4353562b1f"
      },
      "source": [
        "# Float (floating-point number)\n",
        "my_float = 3.14\n",
        "print(my_float)\n",
        "print(type(my_float))"
      ],
      "execution_count": 9,
      "outputs": [
        {
          "output_type": "stream",
          "name": "stdout",
          "text": [
            "3.14\n",
            "<class 'float'>\n"
          ]
        }
      ]
    },
    {
      "cell_type": "code",
      "metadata": {
        "colab": {
          "base_uri": "https://localhost:8080/"
        },
        "id": "dfa4d928",
        "outputId": "9e3483c4-99ec-47f4-f45e-74183bcd5d70"
      },
      "source": [
        "# String\n",
        "my_string = \"Hello, Python!\"\n",
        "print(my_string)\n",
        "print(type(my_string))"
      ],
      "execution_count": 10,
      "outputs": [
        {
          "output_type": "stream",
          "name": "stdout",
          "text": [
            "Hello, Python!\n",
            "<class 'str'>\n"
          ]
        }
      ]
    },
    {
      "cell_type": "code",
      "metadata": {
        "colab": {
          "base_uri": "https://localhost:8080/"
        },
        "id": "6dac1cde",
        "outputId": "d8d8c5a5-b1e6-4733-aa6c-7e5857a61398"
      },
      "source": [
        "# Boolean\n",
        "my_boolean = False\n",
        "print(my_boolean)\n",
        "print(type(my_boolean))"
      ],
      "execution_count": 11,
      "outputs": [
        {
          "output_type": "stream",
          "name": "stdout",
          "text": [
            "False\n",
            "<class 'bool'>\n"
          ]
        }
      ]
    },
    {
      "cell_type": "code",
      "metadata": {
        "colab": {
          "base_uri": "https://localhost:8080/"
        },
        "id": "6397992f",
        "outputId": "20d7b994-eb64-4f77-9a9e-4fcac71c93a7"
      },
      "source": [
        "# List\n",
        "my_list = [1, 2, 3, \"a\", \"b\"]\n",
        "print(my_list)\n",
        "print(type(my_list))"
      ],
      "execution_count": 12,
      "outputs": [
        {
          "output_type": "stream",
          "name": "stdout",
          "text": [
            "[1, 2, 3, 'a', 'b']\n",
            "<class 'list'>\n"
          ]
        }
      ]
    },
    {
      "cell_type": "code",
      "metadata": {
        "colab": {
          "base_uri": "https://localhost:8080/"
        },
        "id": "f8f14a65",
        "outputId": "e38cca67-8901-4f71-95bb-ee29862fc428"
      },
      "source": [
        "# Tuple\n",
        "my_tuple = (10, 20, 30)\n",
        "print(my_tuple)\n",
        "print(type(my_tuple))"
      ],
      "execution_count": 13,
      "outputs": [
        {
          "output_type": "stream",
          "name": "stdout",
          "text": [
            "(10, 20, 30)\n",
            "<class 'tuple'>\n"
          ]
        }
      ]
    },
    {
      "cell_type": "code",
      "metadata": {
        "colab": {
          "base_uri": "https://localhost:8080/"
        },
        "id": "32ffcd37",
        "outputId": "aa13bbe2-bd93-4bf0-fba3-5d43fc516a6c"
      },
      "source": [
        "# Dictionary\n",
        "my_dictionary = {\"name\": \"Alice\", \"age\": 30}\n",
        "print(my_dictionary)\n",
        "print(type(my_dictionary))"
      ],
      "execution_count": 14,
      "outputs": [
        {
          "output_type": "stream",
          "name": "stdout",
          "text": [
            "{'name': 'Alice', 'age': 30}\n",
            "<class 'dict'>\n"
          ]
        }
      ]
    },
    {
      "cell_type": "code",
      "metadata": {
        "colab": {
          "base_uri": "https://localhost:8080/"
        },
        "id": "70336981",
        "outputId": "c9c4f510-b866-499f-9e2c-1c2c52295a77"
      },
      "source": [
        "# Set\n",
        "my_set = {1, 2, 3, 3, 2}\n",
        "print(my_set)\n",
        "print(type(my_set))"
      ],
      "execution_count": 15,
      "outputs": [
        {
          "output_type": "stream",
          "name": "stdout",
          "text": [
            "{1, 2, 3}\n",
            "<class 'set'>\n"
          ]
        }
      ]
    },
    {
      "cell_type": "markdown",
      "source": [
        "# **<font color=green>P5. </font>** Arithmetic and comparison operators\n",
        "####**TASK P5.1:**   Complete Rosalind #1 -- COMPLETED"
      ],
      "metadata": {
        "id": "GtjxkNHWN5Xo"
      }
    },
    {
      "cell_type": "code",
      "source": [
        "y=2+3\n",
        "print(y)\n",
        "x==y"
      ],
      "metadata": {
        "id": "45s9c4vyQm2U",
        "colab": {
          "base_uri": "https://localhost:8080/"
        },
        "outputId": "563be22e-66a2-49eb-f0af-e497c1e777d0"
      },
      "execution_count": 16,
      "outputs": [
        {
          "output_type": "stream",
          "name": "stdout",
          "text": [
            "5\n"
          ]
        },
        {
          "output_type": "execute_result",
          "data": {
            "text/plain": [
              "True"
            ]
          },
          "metadata": {},
          "execution_count": 16
        }
      ]
    },
    {
      "cell_type": "markdown",
      "source": [
        "# **<font color=green>P6. </font>** ```input()``` gets input from the user"
      ],
      "metadata": {
        "id": "3yswDberkE7N"
      }
    },
    {
      "cell_type": "markdown",
      "source": [
        "TASK P6.1"
      ],
      "metadata": {
        "id": "z97rSY9gqdad"
      }
    },
    {
      "cell_type": "code",
      "metadata": {
        "colab": {
          "base_uri": "https://localhost:8080/"
        },
        "id": "d91046dd",
        "outputId": "04268631-6b9b-4b9b-f4ec-4d85c8e6039d"
      },
      "source": [
        "name = input(\"Enter your name: \")\n",
        "print(\"Hello, \" + name)"
      ],
      "execution_count": 17,
      "outputs": [
        {
          "output_type": "stream",
          "name": "stdout",
          "text": [
            "Enter your name: Jair Rea\n",
            "Hello, Jair Rea\n"
          ]
        }
      ]
    },
    {
      "cell_type": "markdown",
      "source": [
        "####**TASK P6.1:** Solve Rosalind #1 again, but get user input for the values of a and b rather than modifying the code."
      ],
      "metadata": {
        "id": "e3LaAQeLRmE6"
      }
    },
    {
      "cell_type": "code",
      "source": [
        "a= int(input(\"enter a value for a:\"))\n",
        "b= int(input(\"enter a value for b:\"))\n",
        "c=a**2+b**2\n",
        "print (\"The sq of the hypotenuse is\",c)"
      ],
      "metadata": {
        "id": "wZ0XL0L6Rq2H",
        "colab": {
          "base_uri": "https://localhost:8080/"
        },
        "outputId": "ea166450-222e-4a4b-dc32-fd441064f5be"
      },
      "execution_count": 18,
      "outputs": [
        {
          "output_type": "stream",
          "name": "stdout",
          "text": [
            "enter a value for a:892\n",
            "enter a value for b:987\n",
            "The sq of the hypotenuse is 1769833\n"
          ]
        }
      ]
    },
    {
      "cell_type": "markdown",
      "source": [
        "# **<font color=green>P7. </font>** ```list``` type variables (create, replace, append)"
      ],
      "metadata": {
        "id": "4IM-9eAGkPdi"
      }
    },
    {
      "cell_type": "markdown",
      "source": [
        "####**TASK P7.1**"
      ],
      "metadata": {
        "id": "DhNGdYK6NEpe"
      }
    },
    {
      "cell_type": "code",
      "source": [
        "# Create a list with 3 elements and then print them\n",
        "\n",
        "my_list = [\"Hello\", \"World\", \"Charles Darwin\"]\n",
        "print (my_list[1])"
      ],
      "metadata": {
        "id": "N3VRRQIEkXuP",
        "colab": {
          "base_uri": "https://localhost:8080/"
        },
        "outputId": "3f00d98d-f4a8-4bc7-a8b9-8caae425fc3f"
      },
      "execution_count": 19,
      "outputs": [
        {
          "output_type": "stream",
          "name": "stdout",
          "text": [
            "World\n"
          ]
        }
      ]
    },
    {
      "cell_type": "markdown",
      "source": [
        "####**TASK P7.2**"
      ],
      "metadata": {
        "id": "Yn3bAoi8NKy5"
      }
    },
    {
      "cell_type": "code",
      "source": [
        "# Substitute the item at index 2 in the list\n",
        "my_list[2] = \"Alfred R. Wallace\"\n",
        "print (my_list)"
      ],
      "metadata": {
        "id": "WNnsUuduOKbI",
        "colab": {
          "base_uri": "https://localhost:8080/"
        },
        "outputId": "2eff4986-66c7-4d4f-de5b-c83bcf40daf0"
      },
      "execution_count": 20,
      "outputs": [
        {
          "output_type": "stream",
          "name": "stdout",
          "text": [
            "['Hello', 'World', 'Alfred R. Wallace']\n"
          ]
        }
      ]
    },
    {
      "cell_type": "markdown",
      "source": [
        "####**TASK P7.3**"
      ],
      "metadata": {
        "id": "SxiMMNLyPwGV"
      }
    },
    {
      "cell_type": "code",
      "source": [
        "# Append an item to the end of the list\n",
        "my_list.append(\"Charles Darwin\")\n",
        "print (my_list)"
      ],
      "metadata": {
        "id": "3VrLc6CGQTi-",
        "colab": {
          "base_uri": "https://localhost:8080/"
        },
        "outputId": "c740b571-ce8d-48f0-fa13-1f57a1248c48"
      },
      "execution_count": 21,
      "outputs": [
        {
          "output_type": "stream",
          "name": "stdout",
          "text": [
            "['Hello', 'World', 'Alfred R. Wallace', 'Charles Darwin']\n"
          ]
        }
      ]
    },
    {
      "cell_type": "markdown",
      "source": [
        "####**TASK P7.4**. Ask Gemini how to <font color=crimson>```insert```</font> a new item at index 1 in the list"
      ],
      "metadata": {
        "id": "XQKmwgbfQond"
      }
    },
    {
      "cell_type": "code",
      "source": [
        "# On line #2 insert an item at index 1 of my_list -- Gemini's advice\n",
        "my_list.insert(1, \"New Item\")\n",
        "\n",
        "print (my_list)"
      ],
      "metadata": {
        "id": "u0maP5CZZN13",
        "colab": {
          "base_uri": "https://localhost:8080/"
        },
        "outputId": "91491a05-0e19-4bad-acdf-67a376db3a39"
      },
      "execution_count": 24,
      "outputs": [
        {
          "output_type": "stream",
          "name": "stdout",
          "text": [
            "['Hello', 'New Item', 'New Item', 'World', 'Alfred R. Wallace', 'Charles Darwin']\n"
          ]
        }
      ]
    },
    {
      "cell_type": "markdown",
      "source": [
        "# **<font color=green>P8. </font>** Slicing lists and strings"
      ],
      "metadata": {
        "id": "nlBbe3qBRH_J"
      }
    },
    {
      "cell_type": "markdown",
      "source": [
        "####**TASK P8.1** Slice and print only the middle two elements from the list created in P7 (i.e. only <font color=magenta>World</font> and <font color=magenta>Alfred R. Wallace</font>).  "
      ],
      "metadata": {
        "id": "M0YW2MP0WtuI"
      }
    },
    {
      "cell_type": "code",
      "source": [
        "print (my_list[2:4])"
      ],
      "metadata": {
        "colab": {
          "base_uri": "https://localhost:8080/"
        },
        "id": "Tp1djNtiaxSb",
        "outputId": "d26aff8f-84e6-4289-9c2a-c8233d88366f"
      },
      "execution_count": 25,
      "outputs": [
        {
          "output_type": "stream",
          "name": "stdout",
          "text": [
            "['New Item', 'World']\n"
          ]
        }
      ]
    },
    {
      "cell_type": "markdown",
      "source": [
        "####**TASK P8.2**: Print <font color=magenta>Wallace World</font> from **my_string** by slicing\n"
      ],
      "metadata": {
        "id": "_F9KCUzCd3ID"
      }
    },
    {
      "cell_type": "code",
      "source": [
        "my_string = \"HelloWorldCharlesDarwinAlfred R. Walace\"\n",
        "print (my_string[0:5],my_string[5:10])\n",
        "\n",
        "# in the print command below input the correct index values to complete Task P8.2\n",
        "print (my_string[ : ],my_string[ : ])"
      ],
      "metadata": {
        "colab": {
          "base_uri": "https://localhost:8080/"
        },
        "id": "AafKngtba8En",
        "outputId": "d2d04ff5-4420-4e7d-cf2d-3bc3c5dd2b65"
      },
      "execution_count": 26,
      "outputs": [
        {
          "output_type": "stream",
          "name": "stdout",
          "text": [
            "Hello World\n",
            "HelloWorldCharlesDarwinAlfred R. Walace HelloWorldCharlesDarwinAlfred R. Walace\n"
          ]
        }
      ]
    },
    {
      "cell_type": "markdown",
      "source": [
        "####**TASK P8.3**  **<font color = orange> Complete Rosalind Problem #2 Strings and Lists</font>**"
      ],
      "metadata": {
        "id": "2TTQVE-Xf8jR"
      }
    },
    {
      "cell_type": "code",
      "source": [
        "# Enter code for Rosalind 2 here:\n",
        "s = \"MR48vb3gLHWGx3PYScwtg3lG50tEf2vNGCoralluscZR7sYimo8b9qHHhl1JkopsteinisrpABNAE0WIA1BIdv0WrpzEE3Gc2hLw5kr0yjqej7mu16g2viXAadVgXGGitZADrn9GETPCqpCRpAmao4BIX4LaVvTO6J3r6kdTJDFCL84YRBZNuS80aP6Uc.\"\n",
        "a = 33\n",
        "b = 40\n",
        "c= 60\n",
        "d = 68\n",
        "print(s[a:41], s[c:69])\n"
      ],
      "metadata": {
        "id": "LI88f5RZh4GL",
        "colab": {
          "base_uri": "https://localhost:8080/"
        },
        "outputId": "d3ebd6d3-9b98-401b-e3c4-5cbada98620c"
      },
      "execution_count": 30,
      "outputs": [
        {
          "output_type": "stream",
          "name": "stdout",
          "text": [
            "Corallus kopsteini\n"
          ]
        }
      ]
    },
    {
      "cell_type": "markdown",
      "source": [
        "####**<font color=crimson>TASK 8.4 Commit to GitHub**</font>*italicized text*"
      ],
      "metadata": {
        "id": "Tw6Pwh6TjwJ9"
      }
    },
    {
      "cell_type": "markdown",
      "source": [
        "# **<font color=green>P9. </font>** ```if``` and ```else``` - conditional output"
      ],
      "metadata": {
        "id": "iHFNxm30lzic"
      }
    },
    {
      "cell_type": "markdown",
      "source": [
        "####**TASK P9.1** Create some code that subtracts two numbers if they are different or adds them if they are the same."
      ],
      "metadata": {
        "id": "WCXnGdftztbN"
      }
    },
    {
      "cell_type": "code",
      "source": [
        "a=5\n",
        "b=5\n",
        "\n",
        "if a!=b:\n",
        "  print(a-b)\n",
        "\n",
        "else:\n",
        "  print(a+b)"
      ],
      "metadata": {
        "id": "KabZsL5Fy8jJ",
        "colab": {
          "base_uri": "https://localhost:8080/"
        },
        "outputId": "38bb09f0-af18-4d76-d004-ae20bb012969"
      },
      "execution_count": 31,
      "outputs": [
        {
          "output_type": "stream",
          "name": "stdout",
          "text": [
            "10\n"
          ]
        }
      ]
    },
    {
      "cell_type": "markdown",
      "source": [
        "# **<font color=green>P10.</font>** ```while``` loops"
      ],
      "metadata": {
        "id": "sOgq54Op4MZL"
      }
    },
    {
      "cell_type": "markdown",
      "source": [
        "####**TASK P10.1** Create a while loop that runs 3 times\n"
      ],
      "metadata": {
        "id": "JMqGqhTn4l9s"
      }
    },
    {
      "cell_type": "code",
      "source": [
        "#initiate a counter\n",
        "a = 1\n",
        "\n",
        "#print \"Counting!\" while a<=3\n",
        "while a <= 3:\n",
        "\n",
        "    print (\"Counting!\" * a)\n",
        "    a += 1"
      ],
      "metadata": {
        "id": "07YbiCGO4O1w",
        "colab": {
          "base_uri": "https://localhost:8080/"
        },
        "outputId": "62b668bc-3e02-40e5-9946-4f5a49b41975"
      },
      "execution_count": 33,
      "outputs": [
        {
          "output_type": "stream",
          "name": "stdout",
          "text": [
            "Counting!\n",
            "Counting!Counting!\n",
            "Counting!Counting!Counting!\n"
          ]
        }
      ]
    },
    {
      "cell_type": "markdown",
      "source": [
        "# **<font color=green>P11.</font>** ```for``` loops – looping over lists"
      ],
      "metadata": {
        "id": "R5_dYi9f6t1z"
      }
    },
    {
      "cell_type": "markdown",
      "source": [
        "####**TASK P11.1** Create a for loop to print each item in a list\n"
      ],
      "metadata": {
        "id": "x9F7v_V073wO"
      }
    },
    {
      "cell_type": "code",
      "source": [
        "names = [\"Alice\",\"Bob\",\"Charley\"]\n",
        "\n",
        "for name in names:\n",
        "    print (\"Hello\", name)"
      ],
      "metadata": {
        "id": "-aqaQ5hz70yo",
        "colab": {
          "base_uri": "https://localhost:8080/"
        },
        "outputId": "49e98212-f0e5-4c7d-9b5f-e0586cdef5e8"
      },
      "execution_count": 34,
      "outputs": [
        {
          "output_type": "stream",
          "name": "stdout",
          "text": [
            "Hello Alice\n",
            "Hello Bob\n",
            "Hello Charley\n"
          ]
        }
      ]
    },
    {
      "cell_type": "markdown",
      "source": [
        "# **<font color=green>P12.</font>** ```for``` loops over a ```range()```of numbers"
      ],
      "metadata": {
        "id": "LdtXZ0LW9ugo"
      }
    },
    {
      "cell_type": "markdown",
      "source": [
        "####**TASK 12.1** Using for and range(), create code that prints the numbers 0-9"
      ],
      "metadata": {
        "id": "jG6jvXEBDi4H"
      }
    },
    {
      "cell_type": "code",
      "source": [
        "# Create a variable to define the  number of iterations\n",
        "iterations = 10\n",
        "\n",
        "#Print the current item's value each time through the loop\n",
        "for number in range(iterations):\n",
        "    print (number)"
      ],
      "metadata": {
        "colab": {
          "base_uri": "https://localhost:8080/"
        },
        "id": "RFBXqQNu_E6X",
        "outputId": "f81cbe1f-36b8-4f5f-83a9-22e2afa40eee"
      },
      "execution_count": 35,
      "outputs": [
        {
          "output_type": "stream",
          "name": "stdout",
          "text": [
            "0\n",
            "1\n",
            "2\n",
            "3\n",
            "4\n",
            "5\n",
            "6\n",
            "7\n",
            "8\n",
            "9\n"
          ]
        }
      ]
    },
    {
      "cell_type": "markdown",
      "source": [
        "####**TASK 12.2** Modify the code so that it only prints every 3rd number from 9 through 27 (i.e. including 27)"
      ],
      "metadata": {
        "id": "NRd5srR_G-PQ"
      }
    },
    {
      "cell_type": "code",
      "source": [
        "# Create a variable to define the  number of iterations\n",
        "iterations = 28\n",
        "\n",
        "#Print the current item's value each time through the loop\n",
        "for number in range(9, iterations):\n",
        "  if number % 3 == 0:\n",
        "    print (number)\n",
        "  if number == 27:\n",
        "    break"
      ],
      "metadata": {
        "id": "irYTFPO-IRHo",
        "colab": {
          "base_uri": "https://localhost:8080/"
        },
        "outputId": "0dfa46aa-6468-4524-e61e-b3f1cb7b0d79"
      },
      "execution_count": 49,
      "outputs": [
        {
          "output_type": "stream",
          "name": "stdout",
          "text": [
            "9\n",
            "12\n",
            "15\n",
            "18\n",
            "21\n",
            "24\n",
            "27\n"
          ]
        }
      ]
    },
    {
      "cell_type": "markdown",
      "source": [
        "####**TASK 12.3** <font color = orange> **Complete Rosalind Problem #3 Conditions and Loops** </font>"
      ],
      "metadata": {
        "id": "83jDEjpMHXUa"
      }
    },
    {
      "cell_type": "code",
      "source": [
        "# Enter code for Rosalind 3 here:\n",
        "x = 4990\n",
        "sum_odd = 0\n",
        "y = 9690\n",
        "\n",
        "for number in range(x, y):\n",
        "  if number % 2 == 1:\n",
        "    sum_odd += number\n",
        "\n",
        "\n",
        "print(sum_odd)\n",
        "\n"
      ],
      "metadata": {
        "id": "EI7hRtakG90R",
        "colab": {
          "base_uri": "https://localhost:8080/"
        },
        "outputId": "c0c5778b-4a70-4ee7-c6d5-51f31b835e07"
      },
      "execution_count": 60,
      "outputs": [
        {
          "output_type": "stream",
          "name": "stdout",
          "text": [
            "17249000\n"
          ]
        }
      ]
    },
    {
      "cell_type": "markdown",
      "source": [
        "####**<font color=crimson>TASK 12.4 Commit to GitHub**</font>"
      ],
      "metadata": {
        "id": "3P9DKNbPI1wp"
      }
    },
    {
      "cell_type": "markdown",
      "source": [
        "# **<font color=green>P13.</font>** File I/O – with open(\"filename\", \"mode\") as filehandle:\n"
      ],
      "metadata": {
        "id": "i4Fo-ddSKWwy"
      }
    },
    {
      "cell_type": "markdown",
      "source": [
        "####**TASK P13.1** Use the ```read()``` function to print the <font color = orange>practice dataset from Rosalind #4</font>\n"
      ],
      "metadata": {
        "id": "sgc3wiQmLXcI"
      }
    },
    {
      "cell_type": "code",
      "source": [
        "with open(\"practice.txt\",\"r\") as data:\n",
        "\n",
        "    print(data.read())\n",
        "\n",
        "    print(data.readline())\n",
        "\n",
        "    print(data.readlines())"
      ],
      "metadata": {
        "id": "V5nzHsnULA_n",
        "colab": {
          "base_uri": "https://localhost:8080/"
        },
        "outputId": "812816f4-1222-4291-b6ce-07cff80affb0"
      },
      "execution_count": 61,
      "outputs": [
        {
          "output_type": "stream",
          "name": "stdout",
          "text": [
            "Bravely bold Sir Robin rode forth from Camelot\n",
            "Yes, brave Sir Robin turned about\n",
            "He was not afraid to die, O brave Sir Robin\n",
            "And gallantly he chickened out\n",
            "He was not at all afraid to be killed in nasty ways\n",
            "Bravely talking to his feet\n",
            "Brave, brave, brave, brave Sir Robin\n",
            "He beat a very brave retreat\n",
            "\n",
            "[]\n"
          ]
        }
      ]
    },
    {
      "cell_type": "markdown",
      "source": [
        "####**TASK P13.2** Explore file object functions to read and print practice.txt"
      ],
      "metadata": {
        "id": "GLO6tBYNVzYZ"
      }
    },
    {
      "cell_type": "markdown",
      "source": [
        "#<font color=green>**P14.**</font> Store the content, close the file, and join ( ) the list"
      ],
      "metadata": {
        "id": "iupO8iI-ZYAe"
      }
    },
    {
      "cell_type": "code",
      "source": [
        "with open(\"practice.txt\",\"r\") as data:\n",
        "\n",
        "  list_of_lines=data.readlines()\n",
        "\n",
        "print (list_of_lines)"
      ],
      "metadata": {
        "id": "8U5w2qOudDyp",
        "colab": {
          "base_uri": "https://localhost:8080/"
        },
        "outputId": "151e45b0-c29b-4209-b06e-4c32346b7813"
      },
      "execution_count": 66,
      "outputs": [
        {
          "output_type": "stream",
          "name": "stdout",
          "text": [
            "['Bravely bold Sir Robin rode forth from Camelot\\n', 'Yes, brave Sir Robin turned about\\n', 'He was not afraid to die, O brave Sir Robin\\n', 'And gallantly he chickened out\\n', 'He was not at all afraid to be killed in nasty ways\\n', 'Bravely talking to his feet\\n', 'Brave, brave, brave, brave Sir Robin\\n', 'He beat a very brave retreat']\n"
          ]
        }
      ]
    },
    {
      "cell_type": "markdown",
      "source": [
        "####**TASK P14.1** Read practice.txt into a list of lines. Then, after the file is closed, use the join ( ) function to print the contents so it looks like the original input."
      ],
      "metadata": {
        "id": "5pPhGmQYiiKx"
      }
    },
    {
      "cell_type": "code",
      "source": [
        "print (\"\".join(list_of_lines))"
      ],
      "metadata": {
        "id": "XLvFZ9uSeyYH",
        "colab": {
          "base_uri": "https://localhost:8080/"
        },
        "outputId": "c8aebbb1-ed6e-426f-cba1-217159bd544e"
      },
      "execution_count": 76,
      "outputs": [
        {
          "output_type": "stream",
          "name": "stdout",
          "text": [
            "Bravely bold Sir Robin rode forth from Camelot\n",
            "Yes, brave Sir Robin turned about\n",
            "He was not afraid to die, O brave Sir Robin\n",
            "And gallantly he chickened out\n",
            "He was not at all afraid to be killed in nasty ways\n",
            "Bravely talking to his feet\n",
            "Brave, brave, brave, brave Sir Robin\n",
            "He beat a very brave retreat\n"
          ]
        }
      ]
    },
    {
      "cell_type": "markdown",
      "source": [
        "#<font color=green>**P15.**</font> Combining for loops with file objects"
      ],
      "metadata": {
        "id": "lY924yM0jckW"
      }
    },
    {
      "cell_type": "markdown",
      "source": [
        "####**TASK P15.1** Use a for loop to print each line in practice.txt"
      ],
      "metadata": {
        "id": "NvqGEl4JjpiO"
      }
    },
    {
      "cell_type": "code",
      "source": [
        "with open(\"practice.txt\",\"r\") as data:\n",
        "\n",
        "  for line in data:\n",
        "    print (line)"
      ],
      "metadata": {
        "id": "snY-10pUkMby",
        "colab": {
          "base_uri": "https://localhost:8080/"
        },
        "outputId": "58f3c987-6d0e-4d5e-989c-3b8572c7fed7"
      },
      "execution_count": 68,
      "outputs": [
        {
          "output_type": "stream",
          "name": "stdout",
          "text": [
            "Bravely bold Sir Robin rode forth from Camelot\n",
            "\n",
            "Yes, brave Sir Robin turned about\n",
            "\n",
            "He was not afraid to die, O brave Sir Robin\n",
            "\n",
            "And gallantly he chickened out\n",
            "\n",
            "He was not at all afraid to be killed in nasty ways\n",
            "\n",
            "Bravely talking to his feet\n",
            "\n",
            "Brave, brave, brave, brave Sir Robin\n",
            "\n",
            "He beat a very brave retreat\n"
          ]
        }
      ]
    },
    {
      "cell_type": "markdown",
      "source": [
        "####**TASK P15.2** <font color=orange>**Complete Rosalind Problem #4 Working with Files**</font>\n"
      ],
      "metadata": {
        "id": "DHzE7CI4lWGw"
      }
    },
    {
      "cell_type": "code",
      "source": [
        "with open(\"Rosalind_P04.txt\",\"r\") as data:\n",
        "  line_count = 0\n",
        "  for line in data:\n",
        "    line_count += 1\n",
        "    if line_count % 2 == 0:\n",
        "      print (line)"
      ],
      "metadata": {
        "id": "8QR9dRFtltBN",
        "colab": {
          "base_uri": "https://localhost:8080/"
        },
        "outputId": "63b792ba-f9f8-4c6d-f6a4-ab0355c4fd23"
      },
      "execution_count": 72,
      "outputs": [
        {
          "output_type": "stream",
          "name": "stdout",
          "text": [
            "Some things in life are bad, they can really make you mad\n",
            "\n",
            "Other things just make you swear and curse\n",
            "\n",
            "When you're chewing on life's gristle, don't grumble give a whistle\n",
            "\n",
            "This will help things turn out for the best\n",
            "\n",
            "Always look on the bright side of life\n",
            "\n",
            "Always look on the right side of life\n",
            "\n",
            "If life seems jolly rotten, there's something you've forgotten\n",
            "\n",
            "And that's to laugh and smile and dance and sing\n",
            "\n",
            "When you're feeling in the dumps, don't be silly, chumps\n",
            "\n",
            "Just purse your lips and whistle, that's the thing\n",
            "\n",
            "So, always look on the bright side of death\n",
            "\n",
            "Just before you draw your terminal breath\n",
            "\n",
            "Life's a counterfeit and when you look at it\n",
            "\n",
            "Life's a laugh and death's the joke, it's true\n",
            "\n",
            "You see, it's all a show, keep them laughing as you go\n",
            "\n",
            "Just remember the last laugh is on you\n",
            "\n",
            "Always look on the bright side of life\n",
            "\n",
            "And always look on the right side of life\n",
            "\n",
            "Always look on the bright side of life\n",
            "\n",
            "And always look on the right side of life\n",
            "\n"
          ]
        }
      ]
    },
    {
      "cell_type": "markdown",
      "source": [
        "I removed the space inbetween each line for the answer in Rosalind."
      ],
      "metadata": {
        "id": "qH2j4gr1-dJ-"
      }
    },
    {
      "cell_type": "markdown",
      "source": [
        "####**<font color=crimson>TASK 15.4 Commit to GitHub**</font>"
      ],
      "metadata": {
        "id": "GJ_acW4WlwDn"
      }
    },
    {
      "cell_type": "markdown",
      "source": [
        "#<font color=green>**P16.**</font> ```for word in line.split()``` – looping over strings and splitting by any delimiter"
      ],
      "metadata": {
        "id": "WD5wnvQkmh6E"
      }
    },
    {
      "cell_type": "markdown",
      "source": [
        "####**TASK P16.1** Print each word in the ROSALIND Problem #5 Sample Dataset on a separate line.\n"
      ],
      "metadata": {
        "id": "kApNvgOLn8lp"
      }
    },
    {
      "cell_type": "code",
      "source": [
        "with open(\"practice_5.txt\",\"r\") as data:\n",
        "\n",
        "  line=data.read()\n",
        "\n",
        "for word in line.split():\n",
        "    print (word)"
      ],
      "metadata": {
        "colab": {
          "base_uri": "https://localhost:8080/"
        },
        "id": "PBjyhwclpKoM",
        "outputId": "49efa23b-771b-42a1-d80f-dc4f03fd4f9e"
      },
      "execution_count": 73,
      "outputs": [
        {
          "output_type": "stream",
          "name": "stdout",
          "text": [
            "We\n",
            "tried\n",
            "list\n",
            "and\n",
            "we\n",
            "tried\n",
            "dicts\n",
            "also\n",
            "we\n",
            "tried\n",
            "Zen\n"
          ]
        }
      ]
    },
    {
      "cell_type": "markdown",
      "source": [
        "#<font color=green>**P17.**</font> Python Dictionaries { }"
      ],
      "metadata": {
        "id": "kq9QbEttnA4h"
      }
    },
    {
      "cell_type": "markdown",
      "source": [
        "####**TASK 17.1** Create and print your first dictionary"
      ],
      "metadata": {
        "id": "lVudFQkZqJgh"
      }
    },
    {
      "cell_type": "code",
      "source": [
        "sequences = {\n",
        "    \"H.neandertalensis\":\"ACGTCGCTCTGCTA\",\n",
        "    \"H.sapiens\":\"ACGTCACTCTGCTA\"\n",
        "    }\n",
        "\n",
        "print (sequences)"
      ],
      "metadata": {
        "colab": {
          "base_uri": "https://localhost:8080/"
        },
        "id": "IzKFWDlgq6zo",
        "outputId": "7c7d8b53-7968-41e0-9892-3f3189fd6409"
      },
      "execution_count": 74,
      "outputs": [
        {
          "output_type": "stream",
          "name": "stdout",
          "text": [
            "{'H.neandertalensis': 'ACGTCGCTCTGCTA', 'H.sapiens': 'ACGTCACTCTGCTA'}\n"
          ]
        }
      ]
    },
    {
      "cell_type": "markdown",
      "source": [
        "#<font color=green>**P18.**</font> Manipulating and printing dictionaries"
      ],
      "metadata": {
        "id": "OvqoT6UwnK0g"
      }
    },
    {
      "cell_type": "markdown",
      "source": [
        "####**TASK 18.1** Modify line 8 to create a fasta file of the hominid sequences"
      ],
      "metadata": {
        "id": "5Be2tcQRrjso"
      }
    },
    {
      "cell_type": "code",
      "source": [
        "sequences[\"P.troglodytes\"]=\"ACGTCACTCTCCTA\"\n",
        "\n",
        "sequences.update({\"G.gorilla\":\"ACGTCCTCCTA\", \"H.erectus\":\"ACGTCACTCTGCTA\"})\n",
        "\n",
        "#print (sequences[\"H.sapiens\"])\n",
        "\n",
        "for key,value in sequences.items():\n",
        "     print(f\">{key}\\n {value}\\n\") # Asked Gemini how to perform such actions"
      ],
      "metadata": {
        "colab": {
          "base_uri": "https://localhost:8080/"
        },
        "id": "b-2XDof4rtP8",
        "outputId": "b9f03c0b-8df3-41ae-d267-2bcb1316b1dd"
      },
      "execution_count": 87,
      "outputs": [
        {
          "output_type": "stream",
          "name": "stdout",
          "text": [
            ">H.neandertalensis\n",
            " ACGTCGCTCTGCTA\n",
            "\n",
            ">H.sapiens\n",
            " ACGTCACTCTGCTA\n",
            "\n",
            ">P.troglodytes\n",
            " ACGTCACTCTCCTA\n",
            "\n",
            ">G.gorilla\n",
            " ACGTCCTCCTA\n",
            "\n",
            ">H.erectus\n",
            " ACGTCACTCTGCTA\n",
            "\n"
          ]
        }
      ]
    },
    {
      "cell_type": "markdown",
      "source": [
        "####**TASK P18.2** <font color= orange>**Complete Rosalind Problem #5  Dictionaries**</font>"
      ],
      "metadata": {
        "id": "Y98OZYUNvmWD"
      }
    },
    {
      "cell_type": "code",
      "source": [
        "with open(\"Rosalind_P05.txt\",\"r\") as data:\n",
        "  line=data.read()\n",
        "my_dictionary = {}\n",
        "for word in line.split():\n",
        "  if word in my_dictionary:\n",
        "    my_dictionary[word] += 1\n",
        "  else:\n",
        "    my_dictionary[word] = 1\n",
        "\n",
        "for key, value in my_dictionary.items():\n",
        "  print (key, value)\n",
        "\n"
      ],
      "metadata": {
        "id": "lD3KoTY9wWa7",
        "colab": {
          "base_uri": "https://localhost:8080/"
        },
        "outputId": "0d981d39-136d-4979-f6d8-bbc57e645d50"
      },
      "execution_count": 79,
      "outputs": [
        {
          "output_type": "stream",
          "name": "stdout",
          "text": [
            "When 1\n",
            "I 2\n",
            "find 1\n",
            "myself 1\n",
            "in 4\n",
            "times 1\n",
            "of 11\n",
            "trouble 1\n",
            "Mother 2\n",
            "Mary 2\n",
            "comes 2\n",
            "to 3\n",
            "me 4\n",
            "Speaking 3\n",
            "words 7\n",
            "wisdom 7\n",
            "let 30\n",
            "it 36\n",
            "be 41\n",
            "And 3\n",
            "my 1\n",
            "hour 1\n",
            "darkness 1\n",
            "she 1\n",
            "is 4\n",
            "standing 1\n",
            "right 1\n",
            "front 1\n",
            "Let 6\n",
            "Whisper 4\n",
            "when 2\n",
            "the 4\n",
            "broken 1\n",
            "hearted 1\n",
            "people 1\n",
            "living 1\n",
            "world 1\n",
            "agree 1\n",
            "There 4\n",
            "will 5\n",
            "an 4\n",
            "answer 4\n",
            "For 1\n",
            "though 1\n",
            "they 2\n",
            "may 1\n",
            "parted 1\n",
            "there 2\n",
            "still 2\n",
            "a 2\n",
            "chance 1\n",
            "that 2\n",
            "see 1\n",
            "night 1\n",
            "cloudy 1\n",
            "light 1\n",
            "shines 1\n",
            "on 1\n",
            "Shine 1\n",
            "until 1\n",
            "tomorrow 1\n",
            "wake 1\n",
            "up 1\n",
            "sound 1\n",
            "music 1\n",
            "yeah 2\n"
          ]
        }
      ]
    },
    {
      "cell_type": "markdown",
      "source": [
        "####**<font color=crimson>TASK 18.3 Commit to GitHub**</font>"
      ],
      "metadata": {
        "id": "1dJdfy4bwVO4"
      }
    },
    {
      "cell_type": "markdown",
      "source": [
        "#<font color=yellow>**P19.**</font> ```count()``` – counting things made easy"
      ],
      "metadata": {
        "id": "28ygQlYJnZoA"
      }
    },
    {
      "cell_type": "markdown",
      "source": [
        "####**TASK P19.1** <font color= orange>**Complete Rosalind Problem #6  Counting DNA Nucleotides**</font>"
      ],
      "metadata": {
        "id": "CZ9tBWDmw4D-"
      }
    },
    {
      "cell_type": "code",
      "source": [
        "with open(\"Rosalind_P06.txt\",\"r\") as data:\n",
        "  line=data.read()\n",
        "print (line.count(\"A\"), line.count(\"C\"), line.count(\"G\"), line.count(\"T\"))"
      ],
      "metadata": {
        "id": "GlwS14zGxBIC",
        "colab": {
          "base_uri": "https://localhost:8080/"
        },
        "outputId": "d1c05e11-6b6d-41a6-c18e-64d3fd64c092"
      },
      "execution_count": 105,
      "outputs": [
        {
          "output_type": "stream",
          "name": "stdout",
          "text": [
            "238 235 247 239\n"
          ]
        }
      ]
    },
    {
      "cell_type": "markdown",
      "source": [
        "####**TASK P19.2** Modify your code for the Rosalind #5 Dictionary problem so that it uses count( ) to count the words."
      ],
      "metadata": {
        "id": "rj-OWB6Jym5y"
      }
    },
    {
      "cell_type": "code",
      "source": [
        "with open(\"Rosalind_P06.txt\",\"r\") as data:\n",
        "  line=data.read()\n",
        "my_dictionary = {}\n",
        "for word in line.split():\n",
        "  if word in my_dictionary:\n",
        "    my_dictionary[word] += 1\n",
        "  else:\n",
        "    my_dictionary[word] = 1\n",
        "\n",
        "for key, value in my_dictionary.items():\n",
        "  print (key, value)\n",
        "\n",
        "# Working on it"
      ],
      "metadata": {
        "id": "9H_S6jLnzfxR",
        "colab": {
          "base_uri": "https://localhost:8080/"
        },
        "outputId": "c6c12c73-f343-4623-9bca-a2e41d708f09"
      },
      "execution_count": 101,
      "outputs": [
        {
          "output_type": "stream",
          "name": "stdout",
          "text": [
            "AGCTTTTCATTCTGACTGCAACGGGCAATATGTCTCTGTGTGGATTAAAAAAAGAGTGTCTGATAGCAGC 1\n"
          ]
        }
      ]
    },
    {
      "cell_type": "markdown",
      "source": [
        "####**<font color=crimson>TASK 19.3 Commit to GitHub**</font>\n"
      ],
      "metadata": {
        "id": "RzMon_wAzg7D"
      }
    },
    {
      "cell_type": "markdown",
      "source": [
        "#<font color=green>**P20.**</font> Installing biopython"
      ],
      "metadata": {
        "id": "-IB0c2gG0Z1O"
      }
    },
    {
      "cell_type": "code",
      "source": [
        "!pip install biopython"
      ],
      "metadata": {
        "colab": {
          "base_uri": "https://localhost:8080/"
        },
        "id": "pinPQdEn0mJM",
        "outputId": "0f7078b1-5519-4c6b-832d-d401bcf90cce"
      },
      "execution_count": 88,
      "outputs": [
        {
          "output_type": "stream",
          "name": "stdout",
          "text": [
            "Collecting biopython\n",
            "  Downloading biopython-1.85-cp312-cp312-manylinux_2_17_x86_64.manylinux2014_x86_64.whl.metadata (13 kB)\n",
            "Requirement already satisfied: numpy in /usr/local/lib/python3.12/dist-packages (from biopython) (2.0.2)\n",
            "Downloading biopython-1.85-cp312-cp312-manylinux_2_17_x86_64.manylinux2014_x86_64.whl (3.3 MB)\n",
            "\u001b[2K   \u001b[90m━━━━━━━━━━━━━━━━━━━━━━━━━━━━━━━━━━━━━━━━\u001b[0m \u001b[32m3.3/3.3 MB\u001b[0m \u001b[31m27.0 MB/s\u001b[0m eta \u001b[36m0:00:00\u001b[0m\n",
            "\u001b[?25hInstalling collected packages: biopython\n",
            "Successfully installed biopython-1.85\n"
          ]
        }
      ]
    },
    {
      "cell_type": "code",
      "metadata": {
        "colab": {
          "base_uri": "https://localhost:8080/"
        },
        "id": "5ccd6f0b",
        "outputId": "a020dd90-0672-49b9-f2ca-9117e9eea657"
      },
      "source": [
        "try:\n",
        "  from Bio.Seq import Seq\n",
        "  print(\"Biopython is installed correctly.\")\n",
        "except ImportError:\n",
        "  print(\"Biopython is not installed or there was an import error.\")"
      ],
      "execution_count": 102,
      "outputs": [
        {
          "output_type": "stream",
          "name": "stdout",
          "text": [
            "Biopython is installed correctly.\n"
          ]
        }
      ]
    },
    {
      "cell_type": "markdown",
      "source": [
        "#<font color=green>**P21.**</font> Seq( ) – a function to define sequence objects"
      ],
      "metadata": {
        "id": "IGX-ThdQ3RuA"
      }
    },
    {
      "cell_type": "markdown",
      "source": [],
      "metadata": {
        "id": "-dZM5t-AKVTs"
      }
    },
    {
      "cell_type": "code",
      "source": [
        "from Bio.Seq import Seq\n",
        "\n",
        "my_sequence = Seq(\"GATGGAACTTGACTACGTAAATT\")"
      ],
      "metadata": {
        "id": "ltZBr8mE4OhM"
      },
      "execution_count": 106,
      "outputs": []
    },
    {
      "cell_type": "markdown",
      "source": [
        "####**TASK BP21.2** <font color=orange> **Complete Rosalind #7 Transcribing DNA into RNA**</font>"
      ],
      "metadata": {
        "id": "UXCuEFxg6Jxx"
      }
    },
    {
      "cell_type": "code",
      "source": [
        "from Bio.Seq import Seq\n",
        "\n",
        "my_sequence = Seq(\"ATATTAATTCGGTTTCACCATGGCTTATGGAGGCTCACCCTCCGAATATTCTTTCTGTTATACGGTGGGTTCTCCGCTTGCGGCTGGCGTCCGTATACAGCAGTAATATGACGTGGTCTCCGCCGTAGCCAAGTAGCCAGAAGGTAGCTCATAATAAGGAGGAGGTATGACAACATTGTCTCACCGTTCAACTGGGCATCAACTAATGGATCACGCTTTCCCGGTTGGACTGTGCGGTGCCATTGACAGCATCGGGGATACCCGCGGAACTTACGGCGGCATCTACCACGCTGGCCTACTACAGCGGACGAGCTAAGGGTAGATTACGGTCTGCGAGATCCTCCGGATCTGTGACGGTGTATTCTCGAGTTCACCAACCTCTAAATGTACCTTCAGTCGTCGTTATCCCATTACGTCCACGCGCGCGATTGGACAATTCCATGGCCAGCGGCCCTCACCTCGTGCTACCTCCGGTCACCGCGAATTATAAGTTTTAAAAGGATCAGGAGGTTCCGGAATAATGATGCGCTAGATAACTAGCCGCCCCGCTAGAACGAGAGTTTGCTACCAAGACTCTAGGTGTCCGGTCGGGGAGATATATCTTCGTGCTGCTCAAGGTTGTCGATGCGGAGAATTCTCGTCCTATTATAAACTCTTTAGTGGTTCCATACCAGCTGGGAGCACAATGGCATAATACGACCAAAGCTTCGAACTAACGCGGTCTGACGGCTCCCTGCGTCCCGTCACCAACTCCCGCGCCTGTGATCGCGTCGCAGTGGCTTTGTTTATGAGTAGGATGTGAAGACTCTATCCTCGTCCGCCTGACTTCCTTTCATTACGGTCGCTTCTCAACCGGTATAGAGTATTTCCAAGAAGGATATTCACAGTTATCTCACCTACAAAGCTATCAGCATCAATACTCTAGCTCCATTGTACTGTCAAATCCACGGCGACCTCAGGTGTTCTGCGCGGTTTTATAAAGTCGTTGGG\")\n",
        "print (my_sequence.transcribe())"
      ],
      "metadata": {
        "id": "UXt6gWLM6qde",
        "colab": {
          "base_uri": "https://localhost:8080/"
        },
        "outputId": "4a3510e3-308c-4466-922b-a1361add06d7"
      },
      "execution_count": 108,
      "outputs": [
        {
          "output_type": "stream",
          "name": "stdout",
          "text": [
            "AUAUUAAUUCGGUUUCACCAUGGCUUAUGGAGGCUCACCCUCCGAAUAUUCUUUCUGUUAUACGGUGGGUUCUCCGCUUGCGGCUGGCGUCCGUAUACAGCAGUAAUAUGACGUGGUCUCCGCCGUAGCCAAGUAGCCAGAAGGUAGCUCAUAAUAAGGAGGAGGUAUGACAACAUUGUCUCACCGUUCAACUGGGCAUCAACUAAUGGAUCACGCUUUCCCGGUUGGACUGUGCGGUGCCAUUGACAGCAUCGGGGAUACCCGCGGAACUUACGGCGGCAUCUACCACGCUGGCCUACUACAGCGGACGAGCUAAGGGUAGAUUACGGUCUGCGAGAUCCUCCGGAUCUGUGACGGUGUAUUCUCGAGUUCACCAACCUCUAAAUGUACCUUCAGUCGUCGUUAUCCCAUUACGUCCACGCGCGCGAUUGGACAAUUCCAUGGCCAGCGGCCCUCACCUCGUGCUACCUCCGGUCACCGCGAAUUAUAAGUUUUAAAAGGAUCAGGAGGUUCCGGAAUAAUGAUGCGCUAGAUAACUAGCCGCCCCGCUAGAACGAGAGUUUGCUACCAAGACUCUAGGUGUCCGGUCGGGGAGAUAUAUCUUCGUGCUGCUCAAGGUUGUCGAUGCGGAGAAUUCUCGUCCUAUUAUAAACUCUUUAGUGGUUCCAUACCAGCUGGGAGCACAAUGGCAUAAUACGACCAAAGCUUCGAACUAACGCGGUCUGACGGCUCCCUGCGUCCCGUCACCAACUCCCGCGCCUGUGAUCGCGUCGCAGUGGCUUUGUUUAUGAGUAGGAUGUGAAGACUCUAUCCUCGUCCGCCUGACUUCCUUUCAUUACGGUCGCUUCUCAACCGGUAUAGAGUAUUUCCAAGAAGGAUAUUCACAGUUAUCUCACCUACAAAGCUAUCAGCAUCAAUACUCUAGCUCCAUUGUACUGUCAAAUCCACGGCGACCUCAGGUGUUCUGCGCGGUUUUAUAAAGUCGUUGGG\n"
          ]
        }
      ]
    },
    {
      "cell_type": "markdown",
      "source": [
        "####**TASK BP21.2** <font color=orange> **Complete Rosalind #8  Translating RNA into Protein**</font>"
      ],
      "metadata": {
        "id": "9P4_MaXp6O3n"
      }
    },
    {
      "cell_type": "code",
      "source": [
        "from Bio.Seq import Seq\n",
        "\n",
        "my_sequence = Seq(\"AUGGGAUCAUGCCAGCACGUACUCUUUUUCCACAGAACAGUGUUUUGGUUUACUCUGGGUGCUCCGAGUGAUGAUCGUGUCACAAAUUUACCGAUAUCGCGUAUAUGGGCGCAAGCGCACAGUCCAUUGGGGAAGUUAUCUUCCUCGGUACCCCCGAUGAUGAUGGCGGCCCCCACAGGCGUAGUUACCCGAACAUCACGCGUACGUCCAUGGCCUAACCACUACGCUUGGGACAUUUUCGCGCUUCUGGCGACCUUAUCAAGUUCGUGUCAGCAAAUCUUAAUGCGGACGGGCCAGGGUUGGGGUCCCAUUCCCCCUGAGCAUUCAGCGACGCUACUCACAAGGGGAAACGUGUUAUGUUCAGUUUUUAAAAGACAACUCUGGUACCACCAGCCGAGCUUGGCUGACCCGACGGAACAUGCGACAGCGAGAAAUCAGGUUGUGGUAGUGUCGUACAACCACGAAUACUCUAUUGUUGGCUCACGAGGCAACCAUGAGACAGCUGGUACCGCCCAAGCGAUAUCAUAUCCACUAGAUUCCGUACCGGGCAAAGUUCUUUCUGCACGGCGACCGGUCCUAGCAGCAUACCUUUUUCCGGUGCCACCGAAGGCUGUUAUUACCAGCAGGCUAAGAGGAACUAGUAUGAUUAUGGCAAUUUCUACAAAUAACAACGAAAUGGUGGCGCCACAAGUGUUAACCCUACGACCGAAUACCUCAGUGGAGGCAAUAGAGCCCGACUGUGGGAAUUCCACGGAGGAUCGGAAAGAUUCAGUUAAGCAGGACCUACAUCGGGAACCGGGUGGGUGCGCUAAUCUUAUCCCCCCAUUGCAGUACUACUCCCAGCACGGGCGAGGCCGAUCGAGAAUGGAGUCAAGACAUAGGUUCGUACAGACAUUCUCUCUUAGCCUAUACAUGCUUCACAGGUACCCACCAAGAGAAAUGGCCGACACACCUAUUAGGUCACCUAUGCUGUAUUGCGGUCGUAAAACUAGCUUCGACACUCCUCCCGUAUUUACUAGUUCGCCCAAUUCGCGCCGCCUACUAAACAUUCCAGUUGUACAUGGUAAUCCGGGCGCACGGGAUACAAAAAACUUGAGACUUGUAGCACUCCGCAAAGAGCGCAUGAAAGCUACGGACUAUGCUAUAACCGGUAGGUAUAGUAGAAUCCCGGCCUCUCAGACUCGAGACCUGCUCCCUGAAGAACUAACGGUAAAAAGAAAAGAUCAAGGCCGGUUCGUUUGCACGGUAGACAGCAAAAAACCCCGUCAACGAUCAAUAAAUCUUUUAACUGAUUUUCUCCUGGACAACGAUUUGAAAAAUACCGGGCCCUAUGUACCUAGCACACCAUAUCACACUAUCCGUAACCAGUUCGACACUUGCCAUGCUCCAGAAGCACCGUCUAACCUUAGAAUACGAAUGCGCAAGACCACCUUGGACGCAGUAUCUGAGUUUCGCAUACAGGGACCUGGCUACGAACGCCCCAUUGGGCAUAUGGGUAACCCCACCUCUGUUCAUGACCAGGAGGACACUGUUAUGGAUGGGUCCGGCGAAGGCGAGUCCCUCGAUAGCCAUUUUAAACCCCCGCACCGGUCUAUCAUCGUAUUUCCAACACCACGACCUUGCACACUGGGUAGAGUAUCGUCGUUUAUCCCCUUAUGUAUGAGGAGCCAAUUAGGCAUCAAACGACAGCUUCUUAGAGUGCCACAGGAAAAUACCCGGUGGAAUAUGACAUACUCAACAGUUGUCGGGCCAAGCGGCCAUCUUGAACGGUGGACUUCGGUUCUAGCCACAUUAAAUAUUCGAAGGCUCAUAAUAUCAUACCUCAAGACGGGCUCAAAGCCGAGGCUGUCUACAUCUCGCUGGGCUACUCGCAUUUUAUACUUGAAUCCCAUACGUACCUUGGUCAGAACUGAGUCUUUGCCGGCUGCUUGCCGGAAUGUAUUUCGUCUGUACUUAGACAUAAUAAUUGGAUAUCAUGAUCAUGGACGCGAUCAGGCUGGUCUAGCAUGUUACGGCAGACCGCGAGUGGAUACACAGAUCUCGACAAUAGUUCUGAGUGGGGGCGGUACGGCCAAUGGACGCACAAGGUCCUUAAAGGGCCAUCUAGCCAUCAGCUCGACUGAUACCGGACCCAAGAGAUGGUCUCCUGUAAUCCCCGCGCACAAAGUGAGCAUGAACGUUACUCUAGGAGACGAAAGCGGCAUCCCAGCAUGUGGGUGCGCAUGUCUCAGCACUGUCUGUAUAAGCAUGACAACCUAUUUUGCAGGUUGGGCGAGUCUUAAAGAACCUUGCGUCAGACUGCAAACCCCCUACGUAGUUGAACUCUGGAACGGCGUACCUACUAGACAAGUCGCAUUAGGCGAACCGUCUCGAUGGGGACUGGUUGAGCUUUGCAAGGAAGGAAGCAAGCAUGGGCAACCAACGAAGUGUGUGGUCGUCAAUAGGAAAUUCUUCGUGAGUCCUACGUUGCUGGGAGGGUUAACGCCAGGGCGCUUUACUGGGCCGAACCGAGGGGUAAGUUUAGGCCUGCAUUUGUUCAACGGCUCCCGGGCUACCACAGCACCUGUUGGACAUUAUGAUUUUAUUUACAAGAAUAAGCAAUUAAUAUGCAGCUGCUUCAGAGGCCGACUGGCCCAAGUCCCGGCUCUCGUCGCCAAGAGCUAUAGCUUCGAUGAAAGGGUCCAUGCGCCUCAUCUAACCCGACAGGGGUGUUUUUGUCUACAUCACCGGGGCACUAGAGUAGGCAAGGUGGCGGAGGAGGUUACGUGGGUAUCUCUGGCCGUGGCCACUUAUAGGUUGGGCCUUAGGAUCCCUAAGCGAGUGUCUGGGCACCUAGUUCAUAUGAUCUUUUUAGCGUUGCCUACGCAGCGGACCAGCUCUAUGACGUUACUCAACGGCCGUUCGUCUUCAACAUUGCACAUUAUUGACUCUAUUAGACGAUGUAAAAACCGGUGGGUGUGCAUACGUGUAUCAGUCUUGAUGAGGAUCUUGAAGACCUCAGGGCUUUGCAUGGGACUCCGCGGCGCGUCCUUUAGCCACAGGCAUCUUCAGAAAUUUCGGGUCGUUUUCCCGCACACCGCCCACGGCACAGAGAUUUCGGAGAUGCCGGUUAACGUAGCGGAUGCAGUUCUAGGGACCCAAAGUUCUACUCGGUUUCGUCUACUAUCGAAGCAACUCCAACUUCGGUCUCGCAAUCUCUAUGCGAAAAUGCGGUGUGAAGGGUGGUAUCUUAUAAUAAUCAGGCCGUAUUUAAGGAUGCGCGCUAGCGGUGACCUCCCAUUGCACCAGGCGAUUCAAAUUUUAGCGCGUUGUCGCAGUGCAUUCGAGAAUUGUAUGCUCUUGGGUUUCGUUCCUAGGUCAUCCCAGGCGACCGUGAGCGCAUUAAGUCAGGGUGAGCGAGAUAGUCCCGAGGCAAGGUUAAAAGAGGCUGGGCAUGCGCCGUAUACACCAAUGUCAAGUCACACGACGUGCCCGGCGAUACUUCAGGUUGAUGAUCUAUGUUCCACACCCCCGAGACCAGCCUUCGGGCCACGGGAUGAGACAAUGUCUUCGUCCCUCAUCCCACGUAGUCACACGACUUCGGCCCAAGCUUUCAAAGGAAAGUUUACGUGGUCAUUCACACGCCACUACAGCCAAAACAACGGGUGUCUGAGAGCAUGUGAUCAGAACAACCCGGACACCUACCGCAGACGUGCUAAUCACCUCUCCACUUCUCCACCUAAAAUCUUGGUUAAUUGUUGGUUCAGUCCCGCCGGUAUAGUCCUGAGUCUCCGUAUAGUUCAAUCGCUAGGUCUGCUUACAGGGUUCGACCAAGGUAAUGCUCUGAAGAGUAUGGGCUGGCGAGCUAAAAUCUCGUAUACAGCAGCUGAUCUUUACCUUAUAACCAUUCUGACUCGUUCUGGCGGGUCAGGCAUCUUCACUCAUUGUAGCCGCCGGGCUUUCCUAGACGCAUCGCUUAACACAUUACGUGAAGAGCUACCUUUCCUGACCUGGAACGCAAUACUGUCAUCUCUGGAUCCACUUGGCACGAAAUUACGUGAUACCACGACAACUAUACUGAUUGUUUGUAUGUCCAGCUAUCCAGUCUAUGCCCGUAUGGCAGUUACGCUCAUAAGUGAUUGGCAGCAUGACAUAAACUGCACCCACUUAUGUGCGUUCCCGUUACCUUACAGCUCAACGAAUUGGGUGCGUGUGAUAAUCGACGAAUCGGUUUCGGGUUGCAGGGUGCAUUGUCUCAGAAAGUGUCUAUCUUUGCGGUUUCGGCUUUAUUUUCGAACCAGAACGCGCUGCCGCCUGGAGGGCUCGCUCAGGGCAGACACGACGUGUGUUGUCCGGAGAAAGUUACCGCCUAAAGAGUCCUGGCGUAGGUCUCUGUCGCCCGAAGGAAGGUUUGCCAGUGCGCACAAUGAACUCCCCUCUCACAUCACCAAUUCAGGCGGUCGCACAUUUUUGCGAACAUCAUAUGCCACAAUAGUACAUCUGACUGGGAUAAAGGGACAAUCGGCAACUGCAGAUCUGGGCGAGUUGCUCAAACAUUACCAGACCGUGGAGCCUUACGAGAUUCUGUACUUCAAAAGUCAUAGAACUAGCGAUCAGCCUUUGUUACCUAAGCUUUGUCGUAUAGGGCUGCUUUUGCUAUGGGCGGGACGGCGGCAAAGACACGGUCUCGUAGGUGCAUAUAUAACGGUGGAAUCUGAGCCCGCCGUGAAUGUUUCUUGCAACUUAGGAGGGAACAGCAUAGCCUCAAAGCAAAAUGCGUUAUGCCGCUAUGUCGUAUGGUCCAUCCGCCGACGGCUAACUGCCGUGAGGAUAACAUUAAGCUUUGGGACCUUUUCACUGGUAUAUUGGGGGGUGUUGUGGGCCUGUGUAGUCGUGCGGGGAUAUGUAAUUGGGCAUAACAAAAGUGGUUAUAUGAGCAUGCUUGCUCGGACUGCUACGCACCCUACUGUGCAAUCUGGCCAACCCUCACACAAAACACGCCCCUUUCUCAGUGAUGGUAUGAAAACACCCACGUACGUCACUCAGCUGCGUUCUGUCUGCAUAGAUGUUGCUCACCGUCCACGAUGCUGUCCGCUUUUAGGCAAGCUAUCUAGCAAUACUGUGGCCCGCCGGCGCAAUCACCCCACUAUAGCGGAAGCCCAGCGUGCUUUCCGAGACCAAUCUCACAGGUAUGGGCAGAUUCCUUCAGCAGGAUGUUCUCGUCGACAGUCGAUCCCCCUACAGGGAAGUUUCAGAUUAAAUCAUCUUUGUCAUGGCCAUCUGAUCAGGCGCUGUUGGGGGUGCUCCAUUGUGUCGAGGCGAUACACGACAAGGGAAGUGGAUCCUCCCCCGAAUUGGAUUAUAUGGACUCGAAAGUGUCCGCAAGAAAUUGACAGCAGCCCACUGUGGAACCGAUAUCGACGGCAGGUUCGCCAAACCUUUUUAAAGCCGAGCUACGAAGCGGAUGACGCCCCUAUCGGUUCCAUGCCAGUGCUUUCAUGGGUUGUAAUCUGUAUUAUGGAACUCAUUUGCGGCACCCGUCUUCCCACCUGCAAUGCCACUGCUACUGCGGCGCUGGAUAAAGUAAUAUUAGGCCCUAAAGGUUGUCUGAAGGCCAGCUUCGAGUGUGUCUACGCUGAAUACCGAAACGUUUCUCCGCUUUAUAUGGAACGGUAUCGAGGCACACCAAACGUAACCAGAGACAUGUCGUACCUUCCCCACCUUCCGCCCCGCGCACUGUGCUCUGGGUCAGAAGUAAGCAUUUUCAAAGUCUUCCUACGACUGAAAUCAUAUGUAAUGUAUCCGUCGACCGUUGACUAUCAUGUCGAUUCACGGACAAGCAUCAAUUGCCCUGUGGGCGCCUGGCGUGCUAGCACGCACCGUACAUUCUCGAUAUGUAACAUACGAAUUCCCCGGUAUCCUAAGUGGAACCACCACAAUCUUAUCUUAAAUCUGCGUCCGGAUCGUAACUUGCCCACCAAUGCAAUCCCAACGAACAAAAGCGCUCGUGGCACUCAUCACGAUUACAAGGGCUUAUUAAUUGCCUACGUUACCUGUGCCGUGUACAUUCAGAACUCACGAUUUGGCGGGAGUCCCGUAUGGUACAUACUGGGACCGGUUAACGUGCUUUGGACAGGAGUGACUCAUCCUCGCUUGAUCCUUGAGACUGUCACAGGCGGCACCAUCCAGAAAGUCGGAGAUUAUACUAAAAUAGGGCUUGCUAACGACGCGCCAACUAGGUCAAUUCUUGAGCCGUAUACAGUCGAGCCGCCCAGUCACACGAGACGGGGGCCCUGGCGGGAACUACUGGCCCACCGAACCUUCCCUGGGAUCACCGUCAAACCUCCUCGAAGUACCGCUCCUUGGUUGGAGCUACGCUCGCACAGGCCAGACAACCACGAGUUAAUUUGUGCGUCUUCCCUCCGUGUAUCCGUUCAAUUGGCCAGAGUUUCCCGUAUGCUACUGCUCUUCUGUUGCCUGAACUAUAGGAUCCAUCGGCUUUUGUUACCUCUCUCGCCCGCCGCACCACAGAUUGAUAUCAAUUCACUGCAGCUGCACUCCGUUGGCCAAUUCGGGGCUUUACGGUACAAUGGUGCCAGCUCGCUCAAUAUUCAUUAUCUGCCCGGUAGGCGGAGGAUUGUAAAGGGGCAAGGGAUGGAUUUCCGUGAAACCGGUUUCCGAGUCUCGUCCAGAAUAGACGCACGUAGGAUAAAACUAGAUAGGACCAGAAGAGAAGAACAUACUGUAGCUUCAGUGCAAGCCAAUUUCCACUGUAUCACGACGAAAGGCAUUCUAUACCGGAAAGAGAACGAGGCGACGGUUUCGACAUUAGUACCAGGCGAAAAUAUGCCGUCCGCGAUCAACCUUUUAUAUAGCUACCGACGCCGUUUAGUAGUACCGACGCUCAUACAAUGUCACAGGGGCGUUACCUUCGCUUGGUUCGUCCACGUCGACAGCCUGAUACACUCUCAGGCUGGUGAGGGAAAAUUCAUGGGCGGAGGUCAGGCGCUGUACCAUCCAAAAGACGCGGUCACGAAUAGGCGAAAUUUACGUACACCGCGAGAAUGUACGCUAUGUGUCGCAAAGGACCAACUAUGCAUGGAAAGCGUGGUGGUCCGGUCCAGAACGCCCGCCAAGGUAGCACUAGGACGUUCAUUCCGGGUACCAAAACCCCCUACGCCCUACGACCCUGGGAGAGGGCCAUCAUCGUCACGGCCGGGACAGGCUGAGAAGAGUGUAGCCCACCUACCCCGCGUGUUACUUCUUACCUGGUAUCUAGGGCACUUUAAUCCAUCGGUCCGACAAGUGUCACAUACCCAGAAUUGCACUAAGCGGUUCACGCCGGAUAGUCAGUACUCUGAUUGUGGGAUGGUGAUAUUCAAUGAUAGUUAUCUCAAAUCUAUGUCAGCUGCGGUUUACACAGACUUGCACUUUCCGUCGCAAGGAUCAAGAACCUGGCCCACCAUGGAACACUCAGUAGAUAGCGGCUCAGAGACAAUAGGACUCACUCUUUUCUCUUAUGCCGGGGACCUUCAUGAUUACAUAGUUUGGAAUGUGGACCCCAUUCCCUUGGCAAGCUUCAAGAGUCUGAGUAGAACCGAUGUAAUAUGCCACAAUACACACUCUGCCGGGAAACAUACCUGUGAAACAACUCUAGACAUCGGACAAUCUCCCUUCUACAUACUAGGACUCACUCUAACCAGACUAGCGGGCAACCCGUUCUGUUAUCUUGCUGUCCUUGUUGAGAUGGGGUGUGUGGAAAUGAUCAAAAGCAUCUGGUAUGCCGCUAAGAUUAAGGACAGAUUCCAGGACAUAAUUCCAGGUGCUGACCAUCAAUUAAAUAAGCGUAGAGGUCCUUCUAACAAUUCAAGCAGGUGUCGCUAUGGCUUCAACGGACCGUGUCCCUCAGAUGCUAGAUGGACCUUGAAGUCGACGAAGUGGGCAUCGCUGUAUUCAGAAAAACACAGGGCGAUCGUUGGACGUAGGGGCGGCCACUGUAGGCGCCGGUUUAUUUGGUCUAAUUGCCUGCCAGACAUCACACCCGCGGAAAGCGACAAGAAAAGAGCUGAAUUCGUUCAGGACAACGCCCCCGACGGUGGUGUCCUCGAAGUUAAGGUAUGCUUAAAUCGUACUGACAAGCAAUGGGGGGGUGGCCUUAAAGAGGCAGAAAACCCUUCGAUGGCACGCUCGCGUAAUACUUCCUGUGUUGACCUGUAUGCAGAGAGUAUCGUACAACCCCUGGAGACUCCCGAAAAAAGACAUGAACGACGAUGA\")\n",
        "print (my_sequence.translate())"
      ],
      "metadata": {
        "id": "5Rzzfzij6q2P",
        "colab": {
          "base_uri": "https://localhost:8080/"
        },
        "outputId": "77f2c103-08f9-4945-cba0-0639f068030d"
      },
      "execution_count": 112,
      "outputs": [
        {
          "output_type": "stream",
          "name": "stdout",
          "text": [
            "MGSCQHVLFFHRTVFWFTLGAPSDDRVTNLPISRIWAQAHSPLGKLSSSVPPMMMAAPTGVVTRTSRVRPWPNHYAWDIFALLATLSSSCQQILMRTGQGWGPIPPEHSATLLTRGNVLCSVFKRQLWYHQPSLADPTEHATARNQVVVVSYNHEYSIVGSRGNHETAGTAQAISYPLDSVPGKVLSARRPVLAAYLFPVPPKAVITSRLRGTSMIMAISTNNNEMVAPQVLTLRPNTSVEAIEPDCGNSTEDRKDSVKQDLHREPGGCANLIPPLQYYSQHGRGRSRMESRHRFVQTFSLSLYMLHRYPPREMADTPIRSPMLYCGRKTSFDTPPVFTSSPNSRRLLNIPVVHGNPGARDTKNLRLVALRKERMKATDYAITGRYSRIPASQTRDLLPEELTVKRKDQGRFVCTVDSKKPRQRSINLLTDFLLDNDLKNTGPYVPSTPYHTIRNQFDTCHAPEAPSNLRIRMRKTTLDAVSEFRIQGPGYERPIGHMGNPTSVHDQEDTVMDGSGEGESLDSHFKPPHRSIIVFPTPRPCTLGRVSSFIPLCMRSQLGIKRQLLRVPQENTRWNMTYSTVVGPSGHLERWTSVLATLNIRRLIISYLKTGSKPRLSTSRWATRILYLNPIRTLVRTESLPAACRNVFRLYLDIIIGYHDHGRDQAGLACYGRPRVDTQISTIVLSGGGTANGRTRSLKGHLAISSTDTGPKRWSPVIPAHKVSMNVTLGDESGIPACGCACLSTVCISMTTYFAGWASLKEPCVRLQTPYVVELWNGVPTRQVALGEPSRWGLVELCKEGSKHGQPTKCVVVNRKFFVSPTLLGGLTPGRFTGPNRGVSLGLHLFNGSRATTAPVGHYDFIYKNKQLICSCFRGRLAQVPALVAKSYSFDERVHAPHLTRQGCFCLHHRGTRVGKVAEEVTWVSLAVATYRLGLRIPKRVSGHLVHMIFLALPTQRTSSMTLLNGRSSSTLHIIDSIRRCKNRWVCIRVSVLMRILKTSGLCMGLRGASFSHRHLQKFRVVFPHTAHGTEISEMPVNVADAVLGTQSSTRFRLLSKQLQLRSRNLYAKMRCEGWYLIIIRPYLRMRASGDLPLHQAIQILARCRSAFENCMLLGFVPRSSQATVSALSQGERDSPEARLKEAGHAPYTPMSSHTTCPAILQVDDLCSTPPRPAFGPRDETMSSSLIPRSHTTSAQAFKGKFTWSFTRHYSQNNGCLRACDQNNPDTYRRRANHLSTSPPKILVNCWFSPAGIVLSLRIVQSLGLLTGFDQGNALKSMGWRAKISYTAADLYLITILTRSGGSGIFTHCSRRAFLDASLNTLREELPFLTWNAILSSLDPLGTKLRDTTTTILIVCMSSYPVYARMAVTLISDWQHDINCTHLCAFPLPYSSTNWVRVIIDESVSGCRVHCLRKCLSLRFRLYFRTRTRCRLEGSLRADTTCVVRRKLPPKESWRRSLSPEGRFASAHNELPSHITNSGGRTFLRTSYATIVHLTGIKGQSATADLGELLKHYQTVEPYEILYFKSHRTSDQPLLPKLCRIGLLLLWAGRRQRHGLVGAYITVESEPAVNVSCNLGGNSIASKQNALCRYVVWSIRRRLTAVRITLSFGTFSLVYWGVLWACVVVRGYVIGHNKSGYMSMLARTATHPTVQSGQPSHKTRPFLSDGMKTPTYVTQLRSVCIDVAHRPRCCPLLGKLSSNTVARRRNHPTIAEAQRAFRDQSHRYGQIPSAGCSRRQSIPLQGSFRLNHLCHGHLIRRCWGCSIVSRRYTTREVDPPPNWIIWTRKCPQEIDSSPLWNRYRRQVRQTFLKPSYEADDAPIGSMPVLSWVVICIMELICGTRLPTCNATATAALDKVILGPKGCLKASFECVYAEYRNVSPLYMERYRGTPNVTRDMSYLPHLPPRALCSGSEVSIFKVFLRLKSYVMYPSTVDYHVDSRTSINCPVGAWRASTHRTFSICNIRIPRYPKWNHHNLILNLRPDRNLPTNAIPTNKSARGTHHDYKGLLIAYVTCAVYIQNSRFGGSPVWYILGPVNVLWTGVTHPRLILETVTGGTIQKVGDYTKIGLANDAPTRSILEPYTVEPPSHTRRGPWRELLAHRTFPGITVKPPRSTAPWLELRSHRPDNHELICASSLRVSVQLARVSRMLLLFCCLNYRIHRLLLPLSPAAPQIDINSLQLHSVGQFGALRYNGASSLNIHYLPGRRRIVKGQGMDFRETGFRVSSRIDARRIKLDRTRREEHTVASVQANFHCITTKGILYRKENEATVSTLVPGENMPSAINLLYSYRRRLVVPTLIQCHRGVTFAWFVHVDSLIHSQAGEGKFMGGGQALYHPKDAVTNRRNLRTPRECTLCVAKDQLCMESVVVRSRTPAKVALGRSFRVPKPPTPYDPGRGPSSSRPGQAEKSVAHLPRVLLLTWYLGHFNPSVRQVSHTQNCTKRFTPDSQYSDCGMVIFNDSYLKSMSAAVYTDLHFPSQGSRTWPTMEHSVDSGSETIGLTLFSYAGDLHDYIVWNVDPIPLASFKSLSRTDVICHNTHSAGKHTCETTLDIGQSPFYILGLTLTRLAGNPFCYLAVLVEMGCVEMIKSIWYAAKIKDRFQDIIPGADHQLNKRRGPSNNSSRCRYGFNGPCPSDARWTLKSTKWASLYSEKHRAIVGRRGGHCRRRFIWSNCLPDITPAESDKKRAEFVQDNAPDGGVLEVKVCLNRTDKQWGGGLKEAENPSMARSRNTSCVDLYAESIVQPLETPEKRHERR*\n"
          ]
        }
      ]
    },
    {
      "cell_type": "markdown",
      "source": [
        "####**<font color=crimson>TASK 21.3 Commit to GitHub**</font>"
      ],
      "metadata": {
        "id": "dvtR4N7L6sZ_"
      }
    },
    {
      "cell_type": "markdown",
      "source": [
        "#<font color=blue>**P22.**</font> SeqIO – a function to parse( ) sequence files"
      ],
      "metadata": {
        "id": "bDJqtRiX3fEG"
      }
    },
    {
      "cell_type": "markdown",
      "source": [
        "####**TASK BP 22.1** Read in the practice dataset from Rosalind #9 and print the id of each sequence in the file."
      ],
      "metadata": {
        "id": "VKyMhLjx7nIo"
      }
    },
    {
      "cell_type": "code",
      "source": [
        "from Bio.SeqIO import parse\n",
        "\n",
        "for seq_record in parse(\"practice_9.txt\", \"fasta\"):\n",
        "    print (seq_record.id)\n",
        "    print (seq_record.seq)\n",
        "    print (len(seq_record.seq))\n",
        "    print (seq_record)"
      ],
      "metadata": {
        "colab": {
          "base_uri": "https://localhost:8080/"
        },
        "id": "xUi3JEoh7yJ6",
        "outputId": "0268cd9f-2c8c-4763-d3bd-02d54c9b0afd"
      },
      "execution_count": null,
      "outputs": [
        {
          "output_type": "stream",
          "name": "stdout",
          "text": [
            "Rosalind_6404\n",
            "CCTGCGGAAGATCGGCACTAGAATAGCCAGAACCGTTTCTCTGAGGCTTCCGGCCTTCCCTCCCACTAATAATTCTGAGG\n",
            "80\n",
            "ID: Rosalind_6404\n",
            "Name: Rosalind_6404\n",
            "Description: Rosalind_6404\n",
            "Number of features: 0\n",
            "Seq('CCTGCGGAAGATCGGCACTAGAATAGCCAGAACCGTTTCTCTGAGGCTTCCGGC...AGG')\n",
            "Rosalind_5959\n",
            "CCATCGGTAGCGCATCCTTAGTCCAATTAAGTCCCTATCCAGGCGCTCCGCCGAAGGTCTATATCCATTTGTCAGCAGACACGC\n",
            "84\n",
            "ID: Rosalind_5959\n",
            "Name: Rosalind_5959\n",
            "Description: Rosalind_5959\n",
            "Number of features: 0\n",
            "Seq('CCATCGGTAGCGCATCCTTAGTCCAATTAAGTCCCTATCCAGGCGCTCCGCCGA...CGC')\n",
            "Rosalind_0808\n",
            "CCACCCTCGTGGTATGGCTAGGCATTCAGGAACCGGAGAACGCTTCAGACCAGCCCGGACTGGGAACCTGCGGGCAGTAGGTGGAAT\n",
            "87\n",
            "ID: Rosalind_0808\n",
            "Name: Rosalind_0808\n",
            "Description: Rosalind_0808\n",
            "Number of features: 0\n",
            "Seq('CCACCCTCGTGGTATGGCTAGGCATTCAGGAACCGGAGAACGCTTCAGACCAGC...AAT')\n"
          ]
        }
      ]
    },
    {
      "cell_type": "markdown",
      "source": [
        "#<font color=blue>**P23.**</font> SeqUtils.gc_fraction( ) – a function to compute GC content"
      ],
      "metadata": {
        "id": "SAjUYBpe3pwi"
      }
    },
    {
      "cell_type": "markdown",
      "source": [
        "####**TASK P23.1** Modify the script from TASK P22.1 so that it prints the GC content for each sequence in the file"
      ],
      "metadata": {
        "id": "kEjUu8HfHniC"
      }
    },
    {
      "cell_type": "markdown",
      "source": [
        "####**TASK P23.2** <font color=orange> **Complete Rosalind #9  Computing GC Content**</font>"
      ],
      "metadata": {
        "id": "nJeXcQR7HwOf"
      }
    },
    {
      "cell_type": "markdown",
      "source": [
        "####**<font color=crimson>TASK 23.3 Commit to GitHub**</font>"
      ],
      "metadata": {
        "id": "gavUUL39INzP"
      }
    },
    {
      "cell_type": "markdown",
      "source": [],
      "metadata": {
        "id": "Zf_OZq9R0dnq"
      }
    }
  ]
}